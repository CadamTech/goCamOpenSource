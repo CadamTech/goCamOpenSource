{
 "cells": [
  {
   "cell_type": "code",
   "execution_count": 1,
   "id": "587049b0",
   "metadata": {},
   "outputs": [],
   "source": [
    "import requests\n",
    "import os\n",
    "from PIL import Image\n",
    "import base64\n",
    "import numpy as np\n",
    "import io\n",
    "import glob\n",
    "import json\n",
    "from io import BytesIO\n",
    "import asyncio\n",
    "import aiohttp\n",
    "import time\n",
    "import csv\n",
    "import pandas as pd\n",
    "import matplotlib.pyplot as plt"
   ]
  },
  {
   "cell_type": "code",
   "execution_count": 2,
   "id": "1a7a9f4e",
   "metadata": {},
   "outputs": [],
   "source": [
    "def imagePathToBase64(imagePath):\n",
    "\n",
    "    with open(imagePath, \"rb\") as imageFile:\n",
    "        encodedString = base64.b64encode(imageFile.read())\n",
    "\n",
    "    return encodedString.decode('utf-8')\n"
   ]
  },
  {
   "cell_type": "code",
   "execution_count": 3,
   "id": "f61d5771",
   "metadata": {},
   "outputs": [],
   "source": [
    "def loadImageFile(imageFile):\n",
    "\n",
    "        if imageFile.startswith('http') or imageFile.startswith('https'):\n",
    "            response = requests.get(imageFile)\n",
    "            image = Image.open(io.BytesIO(response.content)).convert('RGB')\n",
    "        else:\n",
    "            image = Image.open(imageFile).convert('RGB')\n",
    "        return image\n"
   ]
  },
  {
   "cell_type": "code",
   "execution_count": 4,
   "id": "7ec7438c",
   "metadata": {},
   "outputs": [],
   "source": [
    "def imageResize(image, size):\n",
    "\n",
    "    width = image.size[0]\n",
    "    height = image.size[1]\n",
    "    \n",
    "    sizeW = int(size * width / height)\n",
    "    sizeH = size\n",
    "\n",
    "    return image.resize((sizeW, sizeH), Image.ANTIALIAS)\n"
   ]
  },
  {
   "cell_type": "code",
   "execution_count": 5,
   "id": "7b20dd2a",
   "metadata": {},
   "outputs": [],
   "source": [
    "def arrayChunk(l, n): \n",
    "      \n",
    "    for i in range(0, len(l), n):  \n",
    "        yield l[i:i + n] "
   ]
  },
  {
   "cell_type": "code",
   "execution_count": 6,
   "id": "c607607f",
   "metadata": {},
   "outputs": [],
   "source": [
    "async def fetchUrl(url, data):\n",
    "    async with aiohttp.ClientSession() as session:\n",
    "        async with session.post(url, data=data) as response:\n",
    "            return await response.text()"
   ]
  },
  {
   "cell_type": "code",
   "execution_count": 7,
   "id": "e76696c4",
   "metadata": {},
   "outputs": [],
   "source": [
    "async def fetchUrlList(urlList, dataList):\n",
    "    \n",
    "    tasks = []\n",
    "    for i in range(0, len(urlList)):\n",
    "        tasks.append(fetchUrl(urlList[i], dataList[i]))\n",
    "    \n",
    "    results = await asyncio.gather(*tasks)\n",
    "    \n",
    "    return results"
   ]
  },
  {
   "cell_type": "code",
   "execution_count": 8,
   "id": "a2bb3555",
   "metadata": {},
   "outputs": [],
   "source": [
    "async def filePathToFaceAge(apiEndpoint, fileList, minImageHeight, maxiImageHeight):\n",
    "\n",
    "    filePathToPredictedAge = {}\n",
    "    \n",
    "    for i in range(0, len(fileList)):\n",
    "\n",
    "        if i%10 == 0:\n",
    "            print(i)\n",
    "        \n",
    "        urlList = []\n",
    "        dataList = []\n",
    "\n",
    "        for j in range(0, len(fileList[i])):\n",
    "\n",
    "            imageToPredict = fileList[i][j]\n",
    "            imageBin = loadImageFile(imageToPredict)\n",
    "            \n",
    "            # image height is to small, ignore it\n",
    "            if imageBin.size[1] < minImageHeight:\n",
    "                continue\n",
    "\n",
    "            # image height is to big, resize it\n",
    "            if imageBin.size[1] > maxiImageHeight:\n",
    "                imageBinResize = imageResize(imageBin, maxiImageHeight)\n",
    "                buffered = BytesIO()\n",
    "                imageBinResize.save(buffered, format=\"JPEG\")\n",
    "                base64Image = base64.b64encode(buffered.getvalue()).decode('utf-8')\n",
    "            else:\n",
    "                base64Image = imagePathToBase64(imageToPredict)\n",
    "\n",
    "            base64Image = 'data:image/jpeg;base64,' + base64Image\n",
    "\n",
    "            urlList.append(apiEndpoint)\n",
    "            dataList.append({\n",
    "                'base64Image': base64Image,\n",
    "                'imageToPredictPath': imageToPredict,\n",
    "            })\n",
    "\n",
    "        # call the face api\n",
    "        results = await fetchUrlList(urlList, dataList)\n",
    "\n",
    "        for k in range(0, len(results)):\n",
    "\n",
    "            responseData = json.loads(results[k])\n",
    "\n",
    "            # api responded with error\n",
    "            if 'error' in responseData:\n",
    "                continue\n",
    "\n",
    "            # more than one face is detected\n",
    "            if len(responseData['content']['ageList']) > 1:\n",
    "                continue\n",
    "                \n",
    "            imageToPredictPath = responseData['content']['imageToPredictPath']\n",
    "            predictedAge = responseData['content']['ageList'][0]\n",
    "            \n",
    "            filePathToPredictedAge[imageToPredictPath] = predictedAge\n",
    "\n",
    "        time.sleep(0.2)\n",
    "        \n",
    "    return filePathToPredictedAge\n"
   ]
  },
  {
   "cell_type": "code",
   "execution_count": 9,
   "id": "de256686",
   "metadata": {},
   "outputs": [],
   "source": [
    "def getCsvData(csvFilePath):\n",
    "    \n",
    "    with open(csvFilePath, newline='') as csvFile:\n",
    "        reader = csv.reader(csvFile, delimiter=',')\n",
    "        result = list(reader)\n",
    "\n",
    "    return result"
   ]
  },
  {
   "cell_type": "code",
   "execution_count": 10,
   "id": "43cad2b9",
   "metadata": {},
   "outputs": [],
   "source": [
    "def filePathToDatasetData(fileList):\n",
    "    \n",
    "    filePathToData = {}\n",
    "    \n",
    "    for i in range(0, len(fileList)):\n",
    "        \n",
    "        imageToPredict = fileList[i]\n",
    "        \n",
    "        fileName = os.path.basename(imageToPredict)\n",
    "        imageParts = imageToPredict.split('/')\n",
    "    \n",
    "        ageParts = imageParts[5].split('_')\n",
    "        \n",
    "        realAge = [int(ageParts[1]), int(ageParts[2])]\n",
    "        gender = ''\n",
    "        if imageParts[4] == 'female':\n",
    "            gender = 'f'\n",
    "        \n",
    "        if imageParts[4] == 'male':\n",
    "            gender = 'm'\n",
    "        \n",
    "        filePathToData[imageToPredict] = {\n",
    "            'realAge': realAge,\n",
    "            'gender': gender\n",
    "        }\n",
    "        \n",
    "    \n",
    "    return filePathToData\n",
    "    "
   ]
  },
  {
   "cell_type": "code",
   "execution_count": null,
   "id": "1c247d1a",
   "metadata": {},
   "outputs": [],
   "source": []
  },
  {
   "cell_type": "code",
   "execution_count": 11,
   "id": "5712097f",
   "metadata": {},
   "outputs": [],
   "source": [
    "def createCsvContent(filePathToDatasetDataList, filePathToFaceAgeList):\n",
    "    \n",
    "    csvContent = [\n",
    "        ['Real age', 'Gender', 'Predicted age', 'Absolute age difference']\n",
    "    ]\n",
    "    \n",
    "    for filePath in filePathToFaceAgeList:\n",
    "        \n",
    "        realAge = str(filePathToDatasetDataList[filePath]['realAge'][0]) + '-' + str(filePathToDatasetDataList[filePath]['realAge'][1])\n",
    "        gender = filePathToDatasetDataList[filePath]['gender']\n",
    "        predictedAge = filePathToFaceAgeList[filePath]\n",
    "        \n",
    "        if predictedAge < int(filePathToDatasetDataList[filePath]['realAge'][0]):\n",
    "            absoluteAgeDifference = abs(int(filePathToDatasetDataList[filePath]['realAge'][0]) - int(predictedAge))\n",
    "        elif predictedAge > int(filePathToDatasetDataList[filePath]['realAge'][1]):\n",
    "            absoluteAgeDifference = abs(int(filePathToDatasetDataList[filePath]['realAge'][1]) - int(predictedAge))\n",
    "        else:\n",
    "            absoluteAgeDifference = 0\n",
    "        \n",
    "        if int(filePathToDatasetDataList[filePath]['realAge'][0]) < 6:\n",
    "            continue\n",
    "            \n",
    "        if int(filePathToDatasetDataList[filePath]['realAge'][1]) > 70:\n",
    "            continue\n",
    "        \n",
    "        csvContent.append(\n",
    "            [realAge, gender, predictedAge, absoluteAgeDifference]\n",
    "        )\n",
    "        \n",
    "    return csvContent\n",
    "    "
   ]
  },
  {
   "cell_type": "code",
   "execution_count": 12,
   "id": "30d553b5",
   "metadata": {},
   "outputs": [],
   "source": [
    "def writeCsvFile(filePath, fileContent):\n",
    "    \n",
    "    with open(filePath, 'w', newline='') as csvfile:\n",
    "        csvFile = csv.writer(csvfile, delimiter=',', quotechar='\"', quoting=csv.QUOTE_MINIMAL)\n",
    "        \n",
    "        for i in range(0, len(fileContent)):\n",
    "            \n",
    "            csvFile.writerow(fileContent[i])\n",
    "            \n",
    "    print('Csv write done!')\n",
    "    "
   ]
  },
  {
   "cell_type": "code",
   "execution_count": null,
   "id": "1e3fb9ff",
   "metadata": {},
   "outputs": [],
   "source": []
  },
  {
   "cell_type": "code",
   "execution_count": 13,
   "id": "acb840d1",
   "metadata": {},
   "outputs": [],
   "source": [
    "ARRAY_CHUNK_SIZE = 40\n",
    "API_ENDPOINT = 'http://localhost:3200/predictAgeSimple'\n",
    "IMAGE_SIZE_MIN = 100\n",
    "IMAGE_SIZE_MAX = 600\n",
    "DATASET_NAME = 'agfw'\n"
   ]
  },
  {
   "cell_type": "code",
   "execution_count": null,
   "id": "26403b11",
   "metadata": {},
   "outputs": [],
   "source": []
  },
  {
   "cell_type": "code",
   "execution_count": 14,
   "id": "6355f405",
   "metadata": {},
   "outputs": [
    {
     "name": "stdout",
     "output_type": "stream",
     "text": [
      "Total files: 36299\n"
     ]
    }
   ],
   "source": [
    "fileList = glob.glob('../' + DATASET_NAME + '/cropped/*/*/*/*')\n",
    "np.random.shuffle(fileList)\n",
    "print('Total files:', len(fileList))"
   ]
  },
  {
   "cell_type": "code",
   "execution_count": 15,
   "id": "f6c66fa1",
   "metadata": {},
   "outputs": [
    {
     "name": "stdout",
     "output_type": "stream",
     "text": [
      "Total file chunks: 908\n"
     ]
    }
   ],
   "source": [
    "fileListChunked = list(arrayChunk(fileList, ARRAY_CHUNK_SIZE))\n",
    "print('Total file chunks:', len(fileListChunked))"
   ]
  },
  {
   "cell_type": "code",
   "execution_count": 16,
   "id": "233b1205",
   "metadata": {},
   "outputs": [
    {
     "name": "stdout",
     "output_type": "stream",
     "text": [
      "Total data points: 36299\n",
      "Data point sample: {'realAge': [45, 49], 'gender': 'f'}\n"
     ]
    }
   ],
   "source": [
    "filePathToDatasetDataList = filePathToDatasetData(fileList)\n",
    "print('Total data points:', len(filePathToDatasetDataList))\n",
    "print('Data point sample:', filePathToDatasetDataList[fileList[0]])"
   ]
  },
  {
   "cell_type": "code",
   "execution_count": 17,
   "id": "b0c5b591",
   "metadata": {},
   "outputs": [
    {
     "name": "stdout",
     "output_type": "stream",
     "text": [
      "0\n",
      "10\n",
      "20\n",
      "30\n",
      "40\n",
      "50\n",
      "60\n",
      "70\n",
      "80\n",
      "90\n",
      "100\n",
      "110\n",
      "120\n",
      "130\n",
      "140\n",
      "150\n",
      "160\n",
      "170\n",
      "180\n",
      "190\n",
      "200\n",
      "210\n",
      "220\n",
      "230\n",
      "240\n",
      "250\n",
      "260\n",
      "270\n",
      "280\n",
      "290\n",
      "300\n",
      "310\n",
      "320\n",
      "330\n",
      "340\n",
      "350\n",
      "360\n",
      "370\n",
      "380\n",
      "390\n",
      "400\n",
      "410\n",
      "420\n",
      "430\n",
      "440\n",
      "450\n",
      "460\n",
      "470\n",
      "480\n",
      "490\n",
      "500\n",
      "510\n",
      "520\n",
      "530\n",
      "540\n",
      "550\n",
      "560\n",
      "570\n",
      "580\n",
      "590\n",
      "600\n",
      "610\n",
      "620\n",
      "630\n",
      "640\n",
      "650\n",
      "660\n",
      "670\n",
      "680\n",
      "690\n",
      "700\n",
      "710\n",
      "720\n",
      "730\n",
      "740\n",
      "750\n",
      "760\n",
      "770\n",
      "780\n",
      "790\n",
      "800\n",
      "810\n",
      "820\n",
      "830\n",
      "840\n",
      "850\n",
      "860\n",
      "870\n",
      "880\n",
      "890\n",
      "900\n",
      "Total predictions: 27499\n"
     ]
    }
   ],
   "source": [
    "filePathToFaceAgeList = await filePathToFaceAge(API_ENDPOINT, fileListChunked, IMAGE_SIZE_MIN, IMAGE_SIZE_MAX)\n",
    "print('Total predictions:', len(filePathToFaceAgeList))"
   ]
  },
  {
   "cell_type": "code",
   "execution_count": 18,
   "id": "94892375",
   "metadata": {},
   "outputs": [
    {
     "name": "stdout",
     "output_type": "stream",
     "text": [
      "Total csv data entries: 26347\n",
      "Csv entry sample: ['45-49', 'f', 56, 7]\n"
     ]
    }
   ],
   "source": [
    "csvContent = createCsvContent(filePathToDatasetDataList, filePathToFaceAgeList)\n",
    "print('Total csv data entries:', len(csvContent) - 1)\n",
    "print('Csv entry sample:', csvContent[1])"
   ]
  },
  {
   "cell_type": "code",
   "execution_count": 19,
   "id": "85ce27ae",
   "metadata": {},
   "outputs": [
    {
     "name": "stdout",
     "output_type": "stream",
     "text": [
      "Csv write done!\n"
     ]
    }
   ],
   "source": [
    "writeCsvFile('results/' + DATASET_NAME + '-' + str(IMAGE_SIZE_MIN) + '.csv', csvContent)"
   ]
  },
  {
   "cell_type": "code",
   "execution_count": null,
   "id": "0c642655",
   "metadata": {},
   "outputs": [],
   "source": []
  }
 ],
 "metadata": {
  "kernelspec": {
   "display_name": "tf_env",
   "language": "python",
   "name": "tf_env"
  },
  "language_info": {
   "codemirror_mode": {
    "name": "ipython",
    "version": 3
   },
   "file_extension": ".py",
   "mimetype": "text/x-python",
   "name": "python",
   "nbconvert_exporter": "python",
   "pygments_lexer": "ipython3",
   "version": "3.8.16"
  }
 },
 "nbformat": 4,
 "nbformat_minor": 5
}
